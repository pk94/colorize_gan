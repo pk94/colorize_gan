{
  "nbformat": 4,
  "nbformat_minor": 0,
  "metadata": {
    "colab": {
      "name": "simpsons.ipynb",
      "provenance": [],
      "collapsed_sections": [],
      "toc_visible": true
    },
    "kernelspec": {
      "name": "python3",
      "display_name": "Python 3"
    },
    "accelerator": "GPU"
  },
  "cells": [
    {
      "cell_type": "code",
      "metadata": {
        "id": "JaBGlma3VINe",
        "colab_type": "code",
        "outputId": "28ff1c59-324b-4c83-f898-7593a3ff62fe",
        "colab": {
          "base_uri": "https://localhost:8080/",
          "height": 136
        }
      },
      "source": [
        "!git clone -b colab_branch https://github.com/pk94/colorize_gan.git"
      ],
      "execution_count": 1,
      "outputs": [
        {
          "output_type": "stream",
          "text": [
            "Cloning into 'colorize_gan'...\n",
            "remote: Enumerating objects: 117, done.\u001b[K\n",
            "remote: Counting objects:   0% (1/117)\u001b[K\rremote: Counting objects:   1% (2/117)\u001b[K\rremote: Counting objects:   2% (3/117)\u001b[K\rremote: Counting objects:   3% (4/117)\u001b[K\rremote: Counting objects:   4% (5/117)\u001b[K\rremote: Counting objects:   5% (6/117)\u001b[K\rremote: Counting objects:   6% (8/117)\u001b[K\rremote: Counting objects:   7% (9/117)\u001b[K\rremote: Counting objects:   8% (10/117)\u001b[K\rremote: Counting objects:   9% (11/117)\u001b[K\rremote: Counting objects:  10% (12/117)\u001b[K\rremote: Counting objects:  11% (13/117)\u001b[K\rremote: Counting objects:  12% (15/117)\u001b[K\rremote: Counting objects:  13% (16/117)\u001b[K\rremote: Counting objects:  14% (17/117)\u001b[K\rremote: Counting objects:  15% (18/117)\u001b[K\rremote: Counting objects:  16% (19/117)\u001b[K\rremote: Counting objects:  17% (20/117)\u001b[K\rremote: Counting objects:  18% (22/117)\u001b[K\rremote: Counting objects:  19% (23/117)\u001b[K\rremote: Counting objects:  20% (24/117)\u001b[K\rremote: Counting objects:  21% (25/117)\u001b[K\rremote: Counting objects:  22% (26/117)\u001b[K\rremote: Counting objects:  23% (27/117)\u001b[K\rremote: Counting objects:  24% (29/117)\u001b[K\rremote: Counting objects:  25% (30/117)\u001b[K\rremote: Counting objects:  26% (31/117)\u001b[K\rremote: Counting objects:  27% (32/117)\u001b[K\rremote: Counting objects:  28% (33/117)\u001b[K\rremote: Counting objects:  29% (34/117)\u001b[K\rremote: Counting objects:  30% (36/117)\u001b[K\rremote: Counting objects:  31% (37/117)\u001b[K\rremote: Counting objects:  32% (38/117)\u001b[K\rremote: Counting objects:  33% (39/117)\u001b[K\rremote: Counting objects:  34% (40/117)\u001b[K\rremote: Counting objects:  35% (41/117)\u001b[K\rremote: Counting objects:  36% (43/117)\u001b[K\rremote: Counting objects:  37% (44/117)\u001b[K\rremote: Counting objects:  38% (45/117)\u001b[K\rremote: Counting objects:  39% (46/117)\u001b[K\rremote: Counting objects:  40% (47/117)\u001b[K\rremote: Counting objects:  41% (48/117)\u001b[K\rremote: Counting objects:  42% (50/117)\u001b[K\rremote: Counting objects:  43% (51/117)\u001b[K\rremote: Counting objects:  44% (52/117)\u001b[K\rremote: Counting objects:  45% (53/117)\u001b[K\rremote: Counting objects:  46% (54/117)\u001b[K\rremote: Counting objects:  47% (55/117)\u001b[K\rremote: Counting objects:  48% (57/117)\u001b[K\rremote: Counting objects:  49% (58/117)\u001b[K\rremote: Counting objects:  50% (59/117)\u001b[K\rremote: Counting objects:  51% (60/117)\u001b[K\rremote: Counting objects:  52% (61/117)\u001b[K\rremote: Counting objects:  53% (63/117)\u001b[K\rremote: Counting objects:  54% (64/117)\u001b[K\rremote: Counting objects:  55% (65/117)\u001b[K\rremote: Counting objects:  56% (66/117)\u001b[K\rremote: Counting objects:  57% (67/117)\u001b[K\rremote: Counting objects:  58% (68/117)\u001b[K\rremote: Counting objects:  59% (70/117)\u001b[K\rremote: Counting objects:  60% (71/117)\u001b[K\rremote: Counting objects:  61% (72/117)\u001b[K\rremote: Counting objects:  62% (73/117)\u001b[K\rremote: Counting objects:  63% (74/117)\u001b[K\rremote: Counting objects:  64% (75/117)\u001b[K\rremote: Counting objects:  65% (77/117)\u001b[K\rremote: Counting objects:  66% (78/117)\u001b[K\rremote: Counting objects:  67% (79/117)\u001b[K\rremote: Counting objects:  68% (80/117)\u001b[K\rremote: Counting objects:  69% (81/117)\u001b[K\rremote: Counting objects:  70% (82/117)\u001b[K\rremote: Counting objects:  71% (84/117)\u001b[K\rremote: Counting objects:  72% (85/117)\u001b[K\rremote: Counting objects:  73% (86/117)\u001b[K\rremote: Counting objects:  74% (87/117)\u001b[K\rremote: Counting objects:  75% (88/117)\u001b[K\rremote: Counting objects:  76% (89/117)\u001b[K\rremote: Counting objects:  77% (91/117)\u001b[K\rremote: Counting objects:  78% (92/117)\u001b[K\rremote: Counting objects:  79% (93/117)\u001b[K\rremote: Counting objects:  80% (94/117)\u001b[K\rremote: Counting objects:  81% (95/117)\u001b[K\rremote: Counting objects:  82% (96/117)\u001b[K\rremote: Counting objects:  83% (98/117)\u001b[K\rremote: Counting objects:  84% (99/117)\u001b[K\rremote: Counting objects:  85% (100/117)\u001b[K\rremote: Counting objects:  86% (101/117)\u001b[K\rremote: Counting objects:  87% (102/117)\u001b[K\rremote: Counting objects:  88% (103/117)\u001b[K\rremote: Counting objects:  89% (105/117)\u001b[K\rremote: Counting objects:  90% (106/117)\u001b[K\rremote: Counting objects:  91% (107/117)\u001b[K\rremote: Counting objects:  92% (108/117)\u001b[K\rremote: Counting objects:  93% (109/117)\u001b[K\rremote: Counting objects:  94% (110/117)\u001b[K\rremote: Counting objects:  95% (112/117)\u001b[K\rremote: Counting objects:  96% (113/117)\u001b[K\rremote: Counting objects:  97% (114/117)\u001b[K\rremote: Counting objects:  98% (115/117)\u001b[K\rremote: Counting objects:  99% (116/117)\u001b[K\rremote: Counting objects: 100% (117/117)\u001b[K\rremote: Counting objects: 100% (117/117), done.\u001b[K\n",
            "remote: Compressing objects: 100% (82/82), done.\u001b[K\n",
            "remote: Total 117 (delta 46), reused 97 (delta 31), pack-reused 0\u001b[K\n",
            "Receiving objects: 100% (117/117), 1.52 MiB | 3.40 MiB/s, done.\n",
            "Resolving deltas: 100% (46/46), done.\n"
          ],
          "name": "stdout"
        }
      ]
    },
    {
      "cell_type": "code",
      "metadata": {
        "id": "0OdzToq9qGbW",
        "colab_type": "code",
        "outputId": "14f0cad0-2eca-4c3a-9d22-b103fad6fc2c",
        "colab": {
          "base_uri": "https://localhost:8080/",
          "height": 1000
        }
      },
      "source": [
        "!pip install --upgrade tensorflow-gpu==2.0.0"
      ],
      "execution_count": 2,
      "outputs": [
        {
          "output_type": "stream",
          "text": [
            "Collecting tensorflow-gpu==2.0.0\n",
            "\u001b[?25l  Downloading https://files.pythonhosted.org/packages/25/44/47f0722aea081697143fbcf5d2aa60d1aee4aaacb5869aee2b568974777b/tensorflow_gpu-2.0.0-cp36-cp36m-manylinux2010_x86_64.whl (380.8MB)\n",
            "\u001b[K     |████████████████████████████████| 380.8MB 45kB/s \n",
            "\u001b[?25hRequirement already satisfied, skipping upgrade: numpy<2.0,>=1.16.0 in /usr/local/lib/python3.6/dist-packages (from tensorflow-gpu==2.0.0) (1.18.2)\n",
            "Requirement already satisfied, skipping upgrade: termcolor>=1.1.0 in /usr/local/lib/python3.6/dist-packages (from tensorflow-gpu==2.0.0) (1.1.0)\n",
            "Requirement already satisfied, skipping upgrade: astor>=0.6.0 in /usr/local/lib/python3.6/dist-packages (from tensorflow-gpu==2.0.0) (0.8.1)\n",
            "Collecting gast==0.2.2\n",
            "  Downloading https://files.pythonhosted.org/packages/4e/35/11749bf99b2d4e3cceb4d55ca22590b0d7c2c62b9de38ac4a4a7f4687421/gast-0.2.2.tar.gz\n",
            "Requirement already satisfied, skipping upgrade: keras-preprocessing>=1.0.5 in /usr/local/lib/python3.6/dist-packages (from tensorflow-gpu==2.0.0) (1.1.0)\n",
            "Requirement already satisfied, skipping upgrade: six>=1.10.0 in /usr/local/lib/python3.6/dist-packages (from tensorflow-gpu==2.0.0) (1.12.0)\n",
            "Requirement already satisfied, skipping upgrade: protobuf>=3.6.1 in /usr/local/lib/python3.6/dist-packages (from tensorflow-gpu==2.0.0) (3.10.0)\n",
            "Collecting tensorflow-estimator<2.1.0,>=2.0.0\n",
            "\u001b[?25l  Downloading https://files.pythonhosted.org/packages/fc/08/8b927337b7019c374719145d1dceba21a8bb909b93b1ad6f8fb7d22c1ca1/tensorflow_estimator-2.0.1-py2.py3-none-any.whl (449kB)\n",
            "\u001b[K     |████████████████████████████████| 450kB 50.8MB/s \n",
            "\u001b[?25hRequirement already satisfied, skipping upgrade: wrapt>=1.11.1 in /usr/local/lib/python3.6/dist-packages (from tensorflow-gpu==2.0.0) (1.12.1)\n",
            "Requirement already satisfied, skipping upgrade: opt-einsum>=2.3.2 in /usr/local/lib/python3.6/dist-packages (from tensorflow-gpu==2.0.0) (3.2.0)\n",
            "Collecting tensorboard<2.1.0,>=2.0.0\n",
            "\u001b[?25l  Downloading https://files.pythonhosted.org/packages/76/54/99b9d5d52d5cb732f099baaaf7740403e83fe6b0cedde940fabd2b13d75a/tensorboard-2.0.2-py3-none-any.whl (3.8MB)\n",
            "\u001b[K     |████████████████████████████████| 3.8MB 43.0MB/s \n",
            "\u001b[?25hRequirement already satisfied, skipping upgrade: grpcio>=1.8.6 in /usr/local/lib/python3.6/dist-packages (from tensorflow-gpu==2.0.0) (1.28.1)\n",
            "Requirement already satisfied, skipping upgrade: keras-applications>=1.0.8 in /usr/local/lib/python3.6/dist-packages (from tensorflow-gpu==2.0.0) (1.0.8)\n",
            "Requirement already satisfied, skipping upgrade: wheel>=0.26 in /usr/local/lib/python3.6/dist-packages (from tensorflow-gpu==2.0.0) (0.34.2)\n",
            "Requirement already satisfied, skipping upgrade: google-pasta>=0.1.6 in /usr/local/lib/python3.6/dist-packages (from tensorflow-gpu==2.0.0) (0.2.0)\n",
            "Requirement already satisfied, skipping upgrade: absl-py>=0.7.0 in /usr/local/lib/python3.6/dist-packages (from tensorflow-gpu==2.0.0) (0.9.0)\n",
            "Requirement already satisfied, skipping upgrade: setuptools in /usr/local/lib/python3.6/dist-packages (from protobuf>=3.6.1->tensorflow-gpu==2.0.0) (46.1.3)\n",
            "Requirement already satisfied, skipping upgrade: markdown>=2.6.8 in /usr/local/lib/python3.6/dist-packages (from tensorboard<2.1.0,>=2.0.0->tensorflow-gpu==2.0.0) (3.2.1)\n",
            "Requirement already satisfied, skipping upgrade: werkzeug>=0.11.15 in /usr/local/lib/python3.6/dist-packages (from tensorboard<2.1.0,>=2.0.0->tensorflow-gpu==2.0.0) (1.0.1)\n",
            "Requirement already satisfied, skipping upgrade: requests<3,>=2.21.0 in /usr/local/lib/python3.6/dist-packages (from tensorboard<2.1.0,>=2.0.0->tensorflow-gpu==2.0.0) (2.21.0)\n",
            "Requirement already satisfied, skipping upgrade: google-auth-oauthlib<0.5,>=0.4.1 in /usr/local/lib/python3.6/dist-packages (from tensorboard<2.1.0,>=2.0.0->tensorflow-gpu==2.0.0) (0.4.1)\n",
            "Requirement already satisfied, skipping upgrade: google-auth<2,>=1.6.3 in /usr/local/lib/python3.6/dist-packages (from tensorboard<2.1.0,>=2.0.0->tensorflow-gpu==2.0.0) (1.7.2)\n",
            "Requirement already satisfied, skipping upgrade: h5py in /usr/local/lib/python3.6/dist-packages (from keras-applications>=1.0.8->tensorflow-gpu==2.0.0) (2.10.0)\n",
            "Requirement already satisfied, skipping upgrade: chardet<3.1.0,>=3.0.2 in /usr/local/lib/python3.6/dist-packages (from requests<3,>=2.21.0->tensorboard<2.1.0,>=2.0.0->tensorflow-gpu==2.0.0) (3.0.4)\n",
            "Requirement already satisfied, skipping upgrade: certifi>=2017.4.17 in /usr/local/lib/python3.6/dist-packages (from requests<3,>=2.21.0->tensorboard<2.1.0,>=2.0.0->tensorflow-gpu==2.0.0) (2020.4.5.1)\n",
            "Requirement already satisfied, skipping upgrade: idna<2.9,>=2.5 in /usr/local/lib/python3.6/dist-packages (from requests<3,>=2.21.0->tensorboard<2.1.0,>=2.0.0->tensorflow-gpu==2.0.0) (2.8)\n",
            "Requirement already satisfied, skipping upgrade: urllib3<1.25,>=1.21.1 in /usr/local/lib/python3.6/dist-packages (from requests<3,>=2.21.0->tensorboard<2.1.0,>=2.0.0->tensorflow-gpu==2.0.0) (1.24.3)\n",
            "Requirement already satisfied, skipping upgrade: requests-oauthlib>=0.7.0 in /usr/local/lib/python3.6/dist-packages (from google-auth-oauthlib<0.5,>=0.4.1->tensorboard<2.1.0,>=2.0.0->tensorflow-gpu==2.0.0) (1.3.0)\n",
            "Requirement already satisfied, skipping upgrade: cachetools<3.2,>=2.0.0 in /usr/local/lib/python3.6/dist-packages (from google-auth<2,>=1.6.3->tensorboard<2.1.0,>=2.0.0->tensorflow-gpu==2.0.0) (3.1.1)\n",
            "Requirement already satisfied, skipping upgrade: rsa<4.1,>=3.1.4 in /usr/local/lib/python3.6/dist-packages (from google-auth<2,>=1.6.3->tensorboard<2.1.0,>=2.0.0->tensorflow-gpu==2.0.0) (4.0)\n",
            "Requirement already satisfied, skipping upgrade: pyasn1-modules>=0.2.1 in /usr/local/lib/python3.6/dist-packages (from google-auth<2,>=1.6.3->tensorboard<2.1.0,>=2.0.0->tensorflow-gpu==2.0.0) (0.2.8)\n",
            "Requirement already satisfied, skipping upgrade: oauthlib>=3.0.0 in /usr/local/lib/python3.6/dist-packages (from requests-oauthlib>=0.7.0->google-auth-oauthlib<0.5,>=0.4.1->tensorboard<2.1.0,>=2.0.0->tensorflow-gpu==2.0.0) (3.1.0)\n",
            "Requirement already satisfied, skipping upgrade: pyasn1>=0.1.3 in /usr/local/lib/python3.6/dist-packages (from rsa<4.1,>=3.1.4->google-auth<2,>=1.6.3->tensorboard<2.1.0,>=2.0.0->tensorflow-gpu==2.0.0) (0.4.8)\n",
            "Building wheels for collected packages: gast\n",
            "  Building wheel for gast (setup.py) ... \u001b[?25l\u001b[?25hdone\n",
            "  Created wheel for gast: filename=gast-0.2.2-cp36-none-any.whl size=7540 sha256=c6ad2567d3a34582ef5ee98d38171b41d6a2fe8e8be63f94defcba1252d1c866\n",
            "  Stored in directory: /root/.cache/pip/wheels/5c/2e/7e/a1d4d4fcebe6c381f378ce7743a3ced3699feb89bcfbdadadd\n",
            "Successfully built gast\n",
            "\u001b[31mERROR: tensorflow 2.2.0rc3 has requirement gast==0.3.3, but you'll have gast 0.2.2 which is incompatible.\u001b[0m\n",
            "\u001b[31mERROR: tensorflow 2.2.0rc3 has requirement tensorboard<2.3.0,>=2.2.0, but you'll have tensorboard 2.0.2 which is incompatible.\u001b[0m\n",
            "\u001b[31mERROR: tensorflow 2.2.0rc3 has requirement tensorflow-estimator<2.3.0,>=2.2.0rc0, but you'll have tensorflow-estimator 2.0.1 which is incompatible.\u001b[0m\n",
            "Installing collected packages: gast, tensorflow-estimator, tensorboard, tensorflow-gpu\n",
            "  Found existing installation: gast 0.3.3\n",
            "    Uninstalling gast-0.3.3:\n",
            "      Successfully uninstalled gast-0.3.3\n",
            "  Found existing installation: tensorflow-estimator 2.2.0rc0\n",
            "    Uninstalling tensorflow-estimator-2.2.0rc0:\n",
            "      Successfully uninstalled tensorflow-estimator-2.2.0rc0\n",
            "  Found existing installation: tensorboard 2.2.0\n",
            "    Uninstalling tensorboard-2.2.0:\n",
            "      Successfully uninstalled tensorboard-2.2.0\n",
            "Successfully installed gast-0.2.2 tensorboard-2.0.2 tensorflow-estimator-2.0.1 tensorflow-gpu-2.0.0\n"
          ],
          "name": "stdout"
        }
      ]
    },
    {
      "cell_type": "code",
      "metadata": {
        "id": "eOEvPMXg5Lw4",
        "colab_type": "code",
        "colab": {}
      },
      "source": [
        "#!PYTHONPATH=colorize_gan python colorize_gan/scripts/data/generate_metafile.py --data_path 'drive/My Drive/Datasets/human2simpson'"
      ],
      "execution_count": 0,
      "outputs": []
    },
    {
      "cell_type": "code",
      "metadata": {
        "id": "3ReyRgVxpVQh",
        "colab_type": "code",
        "outputId": "31cdc9f6-7ac9-4176-a61f-923dc0afd521",
        "colab": {
          "base_uri": "https://localhost:8080/",
          "height": 306
        }
      },
      "source": [
        "!nvidia-smi"
      ],
      "execution_count": 4,
      "outputs": [
        {
          "output_type": "stream",
          "text": [
            "Mon Apr 20 14:07:38 2020       \n",
            "+-----------------------------------------------------------------------------+\n",
            "| NVIDIA-SMI 440.64.00    Driver Version: 418.67       CUDA Version: 10.1     |\n",
            "|-------------------------------+----------------------+----------------------+\n",
            "| GPU  Name        Persistence-M| Bus-Id        Disp.A | Volatile Uncorr. ECC |\n",
            "| Fan  Temp  Perf  Pwr:Usage/Cap|         Memory-Usage | GPU-Util  Compute M. |\n",
            "|===============================+======================+======================|\n",
            "|   0  Tesla T4            Off  | 00000000:00:04.0 Off |                    0 |\n",
            "| N/A   43C    P8     9W /  70W |      0MiB / 15079MiB |      0%      Default |\n",
            "+-------------------------------+----------------------+----------------------+\n",
            "                                                                               \n",
            "+-----------------------------------------------------------------------------+\n",
            "| Processes:                                                       GPU Memory |\n",
            "|  GPU       PID   Type   Process name                             Usage      |\n",
            "|=============================================================================|\n",
            "|  No running processes found                                                 |\n",
            "+-----------------------------------------------------------------------------+\n"
          ],
          "name": "stdout"
        }
      ]
    },
    {
      "cell_type": "code",
      "metadata": {
        "id": "gqL-aVpnKkOO",
        "colab_type": "code",
        "colab": {}
      },
      "source": [
        "!cp colorize_gan/scripts/train/zdjecie.jpg ."
      ],
      "execution_count": 0,
      "outputs": []
    },
    {
      "cell_type": "code",
      "metadata": {
        "id": "83snpUPP7vG8",
        "colab_type": "code",
        "outputId": "20010038-f198-4e60-e9bd-55ff97eddf15",
        "colab": {
          "base_uri": "https://localhost:8080/",
          "height": 848
        }
      },
      "source": [
        "!PYTHONPATH=colorize_gan python colorize_gan/scripts/train/train_cycle_gan.py --metafile_path 'drive/My Drive/Models/human2simpson/metafile.csv' --checkpoint_path '/content/drive/My Drive/Models/human2simpson/checkpoints'"
      ],
      "execution_count": 0,
      "outputs": [
        {
          "output_type": "stream",
          "text": [
            "2020-04-20 14:07:51.005024: I tensorflow/stream_executor/platform/default/dso_loader.cc:44] Successfully opened dynamic library libcuda.so.1\n",
            "2020-04-20 14:07:51.074597: I tensorflow/stream_executor/cuda/cuda_gpu_executor.cc:1006] successful NUMA node read from SysFS had negative value (-1), but there must be at least one NUMA node, so returning NUMA node zero\n",
            "2020-04-20 14:07:51.075238: I tensorflow/core/common_runtime/gpu/gpu_device.cc:1618] Found device 0 with properties: \n",
            "name: Tesla T4 major: 7 minor: 5 memoryClockRate(GHz): 1.59\n",
            "pciBusID: 0000:00:04.0\n",
            "2020-04-20 14:07:51.093640: I tensorflow/stream_executor/platform/default/dso_loader.cc:44] Successfully opened dynamic library libcudart.so.10.0\n",
            "2020-04-20 14:07:51.311485: I tensorflow/stream_executor/platform/default/dso_loader.cc:44] Successfully opened dynamic library libcublas.so.10.0\n",
            "2020-04-20 14:07:51.397775: I tensorflow/stream_executor/platform/default/dso_loader.cc:44] Successfully opened dynamic library libcufft.so.10.0\n",
            "2020-04-20 14:07:51.421822: I tensorflow/stream_executor/platform/default/dso_loader.cc:44] Successfully opened dynamic library libcurand.so.10.0\n",
            "2020-04-20 14:07:51.692175: I tensorflow/stream_executor/platform/default/dso_loader.cc:44] Successfully opened dynamic library libcusolver.so.10.0\n",
            "2020-04-20 14:07:51.828270: I tensorflow/stream_executor/platform/default/dso_loader.cc:44] Successfully opened dynamic library libcusparse.so.10.0\n",
            "2020-04-20 14:07:51.831418: I tensorflow/stream_executor/platform/default/dso_loader.cc:44] Successfully opened dynamic library libcudnn.so.7\n",
            "2020-04-20 14:07:51.831568: I tensorflow/stream_executor/cuda/cuda_gpu_executor.cc:1006] successful NUMA node read from SysFS had negative value (-1), but there must be at least one NUMA node, so returning NUMA node zero\n",
            "2020-04-20 14:07:51.832172: I tensorflow/stream_executor/cuda/cuda_gpu_executor.cc:1006] successful NUMA node read from SysFS had negative value (-1), but there must be at least one NUMA node, so returning NUMA node zero\n",
            "2020-04-20 14:07:51.832705: I tensorflow/core/common_runtime/gpu/gpu_device.cc:1746] Adding visible gpu devices: 0\n",
            "2020-04-20 14:07:51.833093: I tensorflow/core/platform/cpu_feature_guard.cc:142] Your CPU supports instructions that this TensorFlow binary was not compiled to use: AVX2 AVX512F FMA\n",
            "2020-04-20 14:07:51.837796: I tensorflow/core/platform/profile_utils/cpu_utils.cc:94] CPU Frequency: 2000120000 Hz\n",
            "2020-04-20 14:07:51.838082: I tensorflow/compiler/xla/service/service.cc:168] XLA service 0x292abc0 executing computations on platform Host. Devices:\n",
            "2020-04-20 14:07:51.838112: I tensorflow/compiler/xla/service/service.cc:175]   StreamExecutor device (0): Host, Default Version\n",
            "2020-04-20 14:07:51.977263: I tensorflow/stream_executor/cuda/cuda_gpu_executor.cc:1006] successful NUMA node read from SysFS had negative value (-1), but there must be at least one NUMA node, so returning NUMA node zero\n",
            "2020-04-20 14:07:51.977929: I tensorflow/compiler/xla/service/service.cc:168] XLA service 0x292ad80 executing computations on platform CUDA. Devices:\n",
            "2020-04-20 14:07:51.977954: I tensorflow/compiler/xla/service/service.cc:175]   StreamExecutor device (0): Tesla T4, Compute Capability 7.5\n",
            "2020-04-20 14:07:51.979256: I tensorflow/stream_executor/cuda/cuda_gpu_executor.cc:1006] successful NUMA node read from SysFS had negative value (-1), but there must be at least one NUMA node, so returning NUMA node zero\n",
            "2020-04-20 14:07:51.979804: I tensorflow/core/common_runtime/gpu/gpu_device.cc:1618] Found device 0 with properties: \n",
            "name: Tesla T4 major: 7 minor: 5 memoryClockRate(GHz): 1.59\n",
            "pciBusID: 0000:00:04.0\n",
            "2020-04-20 14:07:51.979878: I tensorflow/stream_executor/platform/default/dso_loader.cc:44] Successfully opened dynamic library libcudart.so.10.0\n",
            "2020-04-20 14:07:51.979919: I tensorflow/stream_executor/platform/default/dso_loader.cc:44] Successfully opened dynamic library libcublas.so.10.0\n",
            "2020-04-20 14:07:51.979943: I tensorflow/stream_executor/platform/default/dso_loader.cc:44] Successfully opened dynamic library libcufft.so.10.0\n",
            "2020-04-20 14:07:51.979968: I tensorflow/stream_executor/platform/default/dso_loader.cc:44] Successfully opened dynamic library libcurand.so.10.0\n",
            "2020-04-20 14:07:51.979988: I tensorflow/stream_executor/platform/default/dso_loader.cc:44] Successfully opened dynamic library libcusolver.so.10.0\n",
            "2020-04-20 14:07:51.980007: I tensorflow/stream_executor/platform/default/dso_loader.cc:44] Successfully opened dynamic library libcusparse.so.10.0\n",
            "2020-04-20 14:07:51.980027: I tensorflow/stream_executor/platform/default/dso_loader.cc:44] Successfully opened dynamic library libcudnn.so.7\n",
            "2020-04-20 14:07:51.980100: I tensorflow/stream_executor/cuda/cuda_gpu_executor.cc:1006] successful NUMA node read from SysFS had negative value (-1), but there must be at least one NUMA node, so returning NUMA node zero\n",
            "2020-04-20 14:07:51.980745: I tensorflow/stream_executor/cuda/cuda_gpu_executor.cc:1006] successful NUMA node read from SysFS had negative value (-1), but there must be at least one NUMA node, so returning NUMA node zero\n",
            "2020-04-20 14:07:51.981314: I tensorflow/core/common_runtime/gpu/gpu_device.cc:1746] Adding visible gpu devices: 0\n",
            "2020-04-20 14:07:51.981385: I tensorflow/stream_executor/platform/default/dso_loader.cc:44] Successfully opened dynamic library libcudart.so.10.0\n",
            "2020-04-20 14:07:51.982676: I tensorflow/core/common_runtime/gpu/gpu_device.cc:1159] Device interconnect StreamExecutor with strength 1 edge matrix:\n",
            "2020-04-20 14:07:51.982720: I tensorflow/core/common_runtime/gpu/gpu_device.cc:1165]      0 \n",
            "2020-04-20 14:07:51.982730: I tensorflow/core/common_runtime/gpu/gpu_device.cc:1178] 0:   N \n",
            "2020-04-20 14:07:51.982834: I tensorflow/stream_executor/cuda/cuda_gpu_executor.cc:1006] successful NUMA node read from SysFS had negative value (-1), but there must be at least one NUMA node, so returning NUMA node zero\n",
            "2020-04-20 14:07:51.983395: I tensorflow/stream_executor/cuda/cuda_gpu_executor.cc:1006] successful NUMA node read from SysFS had negative value (-1), but there must be at least one NUMA node, so returning NUMA node zero\n",
            "2020-04-20 14:07:51.983932: W tensorflow/core/common_runtime/gpu/gpu_bfc_allocator.cc:39] Overriding allow_growth setting because the TF_FORCE_GPU_ALLOW_GROWTH environment variable is set. Original config value was 0.\n",
            "2020-04-20 14:07:51.983970: I tensorflow/core/common_runtime/gpu/gpu_device.cc:1304] Created TensorFlow device (/job:localhost/replica:0/task:0/device:GPU:0 with 14221 MB memory) -> physical GPU (device: 0, name: Tesla T4, pci bus id: 0000:00:04.0, compute capability: 7.5)\n",
            "Latest checkpoint restored!!\n",
            "2020-04-20 14:09:31.432676: I tensorflow/stream_executor/platform/default/dso_loader.cc:44] Successfully opened dynamic library libcudnn.so.7\n"
          ],
          "name": "stdout"
        }
      ]
    },
    {
      "cell_type": "markdown",
      "metadata": {
        "id": "-9O85d7nLAlI",
        "colab_type": "text"
      },
      "source": [
        "function ClickConnect(){\n",
        "console.log(\"Clicking\");\n",
        "document.querySelector(\"colab-connect-button\").shadowRoot.getElementById(\"connect\").click()\n",
        "}\n",
        "setInterval(ClickConnect,60000)"
      ]
    }
  ]
}